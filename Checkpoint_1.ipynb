{
 "cells": [
  {
   "cell_type": "markdown",
   "metadata": {},
   "source": [
    "# Численное интегрирование методом трапеций"
   ]
  },
  {
   "cell_type": "markdown",
   "metadata": {},
   "source": [
    "### Простая формула: \n",
    "Искомый интеграл на частичном отрезке $[x_{j-1},x_{j}]$ запишется следующим образом\n",
    "$$\\int_{x_{j-1}}^{x_{j}} f(x)dx \\approx \\frac{f(x_{j-1}) + f(x_{j})}{2}h$$\n",
    "Погрешность для нее:\n",
    "$$|\\phi_{j}| \\leq \\frac{M_{2,j}h^{3}}{12}$$"
   ]
  },
  {
   "cell_type": "markdown",
   "metadata": {},
   "source": [
    "### Составная формула:\n",
    "Составная формула интегрирования на всем отрезке $[a, b]$ примет вид\n",
    "$$\\int_{a}^{b}f(x)dx \\approx \\sum_{j=1}^{N}\\frac{f(x_{j-1}) + f(x_{j})}{2}h = h\\left[\\frac{1}{2}(f_{1}+f_{N})+f_{2}+...+f_{N-1}\\right]$$\n",
    "Погрешность для нее:\n",
    "$$|\\phi| \\leq \\frac{h^{2}(b-a)}{12}M_{2}$$\n",
    "где $M_{2} = max_{x\\in(a,b)}|f''(x)|$"
   ]
  },
  {
   "cell_type": "markdown",
   "metadata": {},
   "source": [
    "Теперь зададим какую-нибудь функцию, которую будем интегрировать и, соответственно, отрезок для нее. Например:"
   ]
  },
  {
   "cell_type": "markdown",
   "metadata": {},
   "source": [
    "$$\\int_{1}^{2}x^{2} + 1 \\ dx$$"
   ]
  },
  {
   "cell_type": "code",
   "execution_count": 1,
   "metadata": {
    "collapsed": true
   },
   "outputs": [],
   "source": [
    "from __future__ import division\n",
    "import math"
   ]
  },
  {
   "cell_type": "code",
   "execution_count": 2,
   "metadata": {
    "collapsed": false
   },
   "outputs": [
    {
     "name": "stdout",
     "output_type": "stream",
     "text": [
      "Populating the interactive namespace from numpy and matplotlib\n"
     ]
    }
   ],
   "source": [
    "%pylab inline\n",
    "import numpy as np"
   ]
  },
  {
   "cell_type": "code",
   "execution_count": 3,
   "metadata": {
    "collapsed": true
   },
   "outputs": [],
   "source": [
    "function = 'x**2 + 1'\n",
    "a = 1\n",
    "b = 2\n",
    "N = 1000"
   ]
  },
  {
   "cell_type": "markdown",
   "metadata": {},
   "source": [
    "Вычислим значение интеграла методом трапеции:"
   ]
  },
  {
   "cell_type": "code",
   "execution_count": 4,
   "metadata": {
    "collapsed": true
   },
   "outputs": [],
   "source": [
    "def integrand(x):\n",
    "    try:\n",
    "        return eval(function)\n",
    "    except ZeroDivisionError:\n",
    "        return 0"
   ]
  },
  {
   "cell_type": "code",
   "execution_count": 5,
   "metadata": {
    "collapsed": true
   },
   "outputs": [],
   "source": [
    "def trapz_method(function, a, b, N):\n",
    "    h = float(b - a) / N\n",
    "    s = 0.0\n",
    "    x = a\n",
    "    s += integrand(x)/2.0\n",
    "    for i in range(1, N):\n",
    "        x = a + i * h\n",
    "        s += integrand(x)\n",
    "    x = b\n",
    "    s += integrand(x)/2.0\n",
    "    return s * h"
   ]
  },
  {
   "cell_type": "code",
   "execution_count": 6,
   "metadata": {
    "collapsed": false
   },
   "outputs": [],
   "source": [
    "I_t = trapz_method(function, a, b, N)"
   ]
  },
  {
   "cell_type": "code",
   "execution_count": 7,
   "metadata": {
    "collapsed": false
   },
   "outputs": [
    {
     "data": {
      "text/plain": [
       "3.3333334999999997"
      ]
     },
     "execution_count": 7,
     "metadata": {},
     "output_type": "execute_result"
    }
   ],
   "source": [
    "I_t"
   ]
  },
  {
   "cell_type": "markdown",
   "metadata": {},
   "source": [
    "Посчитаем то же значение интеграла более точным способом:"
   ]
  },
  {
   "cell_type": "code",
   "execution_count": 8,
   "metadata": {
    "collapsed": true
   },
   "outputs": [],
   "source": [
    "from scipy.integrate import quad"
   ]
  },
  {
   "cell_type": "code",
   "execution_count": null,
   "metadata": {
    "collapsed": false
   },
   "outputs": [],
   "source": [
    "I = quad(integrand, a, b)"
   ]
  },
  {
   "cell_type": "code",
   "execution_count": null,
   "metadata": {
    "collapsed": false
   },
   "outputs": [],
   "source": [
    "I[0]"
   ]
  },
  {
   "cell_type": "markdown",
   "metadata": {},
   "source": [
    "Разница между значениями интеграла:"
   ]
  },
  {
   "cell_type": "code",
   "execution_count": null,
   "metadata": {
    "collapsed": false
   },
   "outputs": [],
   "source": [
    "abs(I[0] - I_t)"
   ]
  },
  {
   "cell_type": "markdown",
   "metadata": {},
   "source": [
    "Посчитаем оба значения интеграла для разрывной функции:"
   ]
  },
  {
   "cell_type": "markdown",
   "metadata": {},
   "source": [
    "\\begin{equation*}\n",
    "f(x) = \n",
    "\\begin{cases}\n",
    "\\large\\frac {\\sin x}{x}\\normalsize,  & x \\ne 0 \\\\\n",
    "1,  &x = 0\n",
    "\\end{cases}\n",
    "\\end{equation*}\n",
    "\n",
    "$$\\int_{-1}^{1}f(x) \\ dx$$"
   ]
  },
  {
   "cell_type": "code",
   "execution_count": null,
   "metadata": {
    "collapsed": true
   },
   "outputs": [],
   "source": [
    "function = 'math.sin(x)/x'\n",
    "a = -1\n",
    "b = 1"
   ]
  },
  {
   "cell_type": "code",
   "execution_count": null,
   "metadata": {
    "collapsed": false
   },
   "outputs": [],
   "source": [
    "I_t = trapz_method(function, a, b, N)\n",
    "I = quad(integrand, a, b)\n",
    "abs(I[0] - I_t)"
   ]
  },
  {
   "cell_type": "markdown",
   "metadata": {},
   "source": [
    "Сделаем то же самое для осциллирующей функции:"
   ]
  },
  {
   "cell_type": "markdown",
   "metadata": {},
   "source": [
    "$$\\int_{1}^{2}x\\ cos(8x) \\ dx$$"
   ]
  },
  {
   "cell_type": "code",
   "execution_count": null,
   "metadata": {
    "collapsed": true
   },
   "outputs": [],
   "source": [
    "function = 'x*math.cos(8*x)'"
   ]
  },
  {
   "cell_type": "code",
   "execution_count": null,
   "metadata": {
    "collapsed": false
   },
   "outputs": [],
   "source": [
    "I_t = trapz_method(function, a, b, N)\n",
    "I = quad(integrand, a, b)\n",
    "abs(I[0] - I_t)"
   ]
  },
  {
   "cell_type": "markdown",
   "metadata": {},
   "source": [
    "Теперь посмотрим на значение интеграла $\\int_{1}^{2}x^{2} + 1 \\ dx$ с увеличением мелкости сетки"
   ]
  },
  {
   "cell_type": "code",
   "execution_count": null,
   "metadata": {
    "collapsed": true
   },
   "outputs": [],
   "source": [
    "function = 'x**2 + 1'"
   ]
  },
  {
   "cell_type": "code",
   "execution_count": null,
   "metadata": {
    "collapsed": false
   },
   "outputs": [],
   "source": [
    "I_t_array = []\n",
    "for N in xrange(2,30,1):\n",
    "    I_t_array.append(trapz_method(function, a, b, N))\n",
    "x = np.arange(2,30,1)\n",
    "plt.figure(num=None, figsize=(10, 6), dpi=80, facecolor='w', edgecolor='k')\n",
    "plt.plot(x, I_t_array)\n",
    "plt.axhline(y=quad(integrand, a, b)[0], color='r')\n",
    "plt.xlabel('N')\n",
    "plt.ylabel('Integral value')\n",
    "plt.show()"
   ]
  },
  {
   "cell_type": "code",
   "execution_count": null,
   "metadata": {
    "collapsed": true
   },
   "outputs": [],
   "source": [
    "eps = quad(integrand, a, b)[0]"
   ]
  },
  {
   "cell_type": "markdown",
   "metadata": {},
   "source": [
    "Теперь посмотрим на график погрешности:"
   ]
  },
  {
   "cell_type": "code",
   "execution_count": null,
   "metadata": {
    "collapsed": false
   },
   "outputs": [],
   "source": [
    "I_t_array_log = map(lambda a: math.log(abs(eps - a)), I_t_array)\n",
    "x_log = map(lambda a: math.log(a), x)\n",
    "plt.figure(num=None, figsize=(10, 6), dpi=80, facecolor='w', edgecolor='k')\n",
    "plt.plot(x_log, I_t_array_log)\n",
    "plt.xlabel('log N')\n",
    "plt.ylabel('log E(N)')\n",
    "plt.show()"
   ]
  },
  {
   "cell_type": "code",
   "execution_count": null,
   "metadata": {
    "collapsed": false
   },
   "outputs": [],
   "source": [
    "np.polyfit(x_log, I_t_array_log, 1)"
   ]
  },
  {
   "cell_type": "markdown",
   "metadata": {},
   "source": [
    "Коэффициент наклона прямой отрицательный.\n",
    "Видно, что с увеличением N погрешность уменьшается и приближенное значение интеграла становится близко к истинному."
   ]
  }
 ],
 "metadata": {
  "kernelspec": {
   "display_name": "Python [Root]",
   "language": "python",
   "name": "Python [Root]"
  },
  "language_info": {
   "codemirror_mode": {
    "name": "ipython",
    "version": 2
   },
   "file_extension": ".py",
   "mimetype": "text/x-python",
   "name": "python",
   "nbconvert_exporter": "python",
   "pygments_lexer": "ipython2",
   "version": "2.7.12"
  }
 },
 "nbformat": 4,
 "nbformat_minor": 0
}
