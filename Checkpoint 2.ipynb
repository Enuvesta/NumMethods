{
 "cells": [
  {
   "cell_type": "markdown",
   "metadata": {},
   "source": [
    "### Решение СЛАУ"
   ]
  },
  {
   "cell_type": "markdown",
   "metadata": {},
   "source": [
    "Будем решать систему линейных уравнений методом Крамера.  Если определитель системы отличен от нуля, то система линейных уравнений имеет одно единственное решение, причём неизвестное равно отношению определителей. В знаменателе – определитель системы, а в числителе – определитель, полученный из определителя системы путём замены коэффициентов при этом неизвестном свободными членами."
   ]
  },
  {
   "cell_type": "markdown",
   "metadata": {},
   "source": [
    "### Условия применимости:\n",
    "\n",
    "Метод Крамера может быть использован в решении системы стольких линейных уравнений, сколько в каждом уравнении неизвестных. Если определитель системы не равен нулю, то метод Крамера может быть использован в решении, если же равен нулю, то не может. Кроме того, метод Крамера может быть использован в решении систем линейных уравнений, имеющих единственное решение."
   ]
  },
  {
   "cell_type": "code",
   "execution_count": 1,
   "metadata": {
    "collapsed": true
   },
   "outputs": [],
   "source": [
    "from __future__ import division"
   ]
  },
  {
   "cell_type": "code",
   "execution_count": 2,
   "metadata": {
    "collapsed": false
   },
   "outputs": [
    {
     "name": "stdout",
     "output_type": "stream",
     "text": [
      "Populating the interactive namespace from numpy and matplotlib\n"
     ]
    }
   ],
   "source": [
    "%pylab inline\n",
    "import numpy as np"
   ]
  },
  {
   "cell_type": "markdown",
   "metadata": {},
   "source": [
    "Реализуем метод Крамера"
   ]
  },
  {
   "cell_type": "code",
   "execution_count": 3,
   "metadata": {
    "collapsed": false
   },
   "outputs": [],
   "source": [
    "def kramer(m, b):\n",
    "    tmp = list(zip(*m))\n",
    "    delta = np.linalg.det(tmp)\n",
    "    if delta == 0:\n",
    "        return \"Решений нет\"\n",
    "    result = []\n",
    "    for i in range(len(m)):\n",
    "        A = tmp[:]\n",
    "        A[i] = b\n",
    "        result.append((np.linalg.det(A) / delta))\n",
    "    return np.array(result)"
   ]
  },
  {
   "cell_type": "markdown",
   "metadata": {},
   "source": [
    "Функция, вычисляющая матричную норму:"
   ]
  },
  {
   "cell_type": "code",
   "execution_count": 4,
   "metadata": {
    "collapsed": true
   },
   "outputs": [],
   "source": [
    "def matrix_norm(A):\n",
    "    return max(np.apply_along_axis(lambda a: abs(a).sum(), 1, A))   "
   ]
  },
  {
   "cell_type": "code",
   "execution_count": 5,
   "metadata": {
    "collapsed": true
   },
   "outputs": [],
   "source": [
    "def solve_system(matr, b):\n",
    "    A = matr\n",
    "    det_A = np.linalg.det(A)\n",
    "    norm_A = matrix_norm(A)\n",
    "    cond_A = norm_A * matrix_norm(np.linalg.inv(A))\n",
    "    x = kramer(matrix, b).reshape(-1, 1)\n",
    "    E = abs(b.reshape(-1,1) - np.dot(A, x))\n",
    "    return(det_A, norm_A, cond_A, x, E)"
   ]
  },
  {
   "cell_type": "code",
   "execution_count": 6,
   "metadata": {
    "collapsed": true
   },
   "outputs": [],
   "source": [
    "def print_result(det_A, norm_A, cond_A, x, E):\n",
    "    print(\"x = \\n\")\n",
    "    print(x)\n",
    "    print(\"\\nНевязка \\n\")\n",
    "    print(E)\n",
    "    print(\"\\nОпределитель: %.2f\" % det_A)\n",
    "    print(\"Норма: %.2f\" % norm_A)\n",
    "    print(\"Число обусловенности: %.2f\" % cond_A)"
   ]
  },
  {
   "cell_type": "markdown",
   "metadata": {},
   "source": [
    "Найдем решение уравнения $Ax=b$, если \n",
    "$$\n",
    "\\begin{equation}\n",
    "    A = \\begin{pmatrix}\n",
    "        1 & 2 & 3 \\\\\n",
    "        2.001 & 3.999 & 6 \\\\         \n",
    "        15 & 3 & 6\n",
    "        \\end{pmatrix} \\quad\n",
    "    b = \\begin{pmatrix}\n",
    "            1 \\\\\n",
    "            2\\\\         \n",
    "            3\n",
    "        \\end{pmatrix}\n",
    "\\end{equation}\n",
    "$$\n"
   ]
  },
  {
   "cell_type": "code",
   "execution_count": 7,
   "metadata": {
    "collapsed": false
   },
   "outputs": [
    {
     "name": "stdout",
     "output_type": "stream",
     "text": [
      "x = \n",
      "\n",
      "[[ 0.08333333]\n",
      " [ 0.08333333]\n",
      " [ 0.25      ]]\n",
      "\n",
      "Невязка \n",
      "\n",
      "[[  1.33226763e-15]\n",
      " [  2.66453526e-15]\n",
      " [  2.66453526e-15]]\n",
      "\n",
      "Определитель: 0.04\n",
      "Норма: 24.00\n",
      "Число обусловенности: 77998.00\n"
     ]
    }
   ],
   "source": [
    "matrix = np.array([[1,2,3],\n",
    "                  [2.001, 3.999, 6],\n",
    "                  [15, 3, 6]])\n",
    "b = np.array([1, 2, 3])\n",
    "det_A, norm_A, cond_A, x, E = solve_system(matrix, b)\n",
    "print_result(det_A, norm_A, cond_A, x, E)"
   ]
  },
  {
   "cell_type": "markdown",
   "metadata": {},
   "source": [
    "Найдем решение уравнения $Ax=b$, если \n",
    "$$\n",
    "\\begin{equation}\n",
    "    A = \\begin{pmatrix}\n",
    "        1 & \\frac{1}{2} & \\frac{1}{3} \\\\\n",
    "        \\frac{1}{2} & \\frac{1}{3} & \\frac{1}{4} \\\\         \n",
    "        \\frac{1}{3} & \\frac{1}{4} & \\frac{1}{5}\n",
    "        \\end{pmatrix} \\quad\n",
    "    b = \\begin{pmatrix}\n",
    "            1 \\\\\n",
    "            2\\\\         \n",
    "            3\n",
    "        \\end{pmatrix}\n",
    "\\end{equation}\n",
    "$$\n"
   ]
  },
  {
   "cell_type": "code",
   "execution_count": 8,
   "metadata": {
    "collapsed": false
   },
   "outputs": [
    {
     "name": "stdout",
     "output_type": "stream",
     "text": [
      "x = \n",
      "\n",
      "[[  27.]\n",
      " [-192.]\n",
      " [ 210.]]\n",
      "\n",
      "Невязка \n",
      "\n",
      "[[  1.13686838e-13]\n",
      " [  6.39488462e-14]\n",
      " [  4.97379915e-14]]\n",
      "\n",
      "Определитель: 0.00\n",
      "Норма: 1.83\n",
      "Число обусловенности: 748.00\n"
     ]
    }
   ],
   "source": [
    "matrix = np.array([[1,1/2,1/3],\n",
    "                   [1/2, 1/3, 1/4],\n",
    "                   [1/3, 1/4, 1/5]])\n",
    "b = np.array([1, 2, 3])\n",
    "det_A, norm_A, cond_A, x, E = solve_system(matrix, b)\n",
    "print_result(det_A, norm_A, cond_A, x, E)"
   ]
  },
  {
   "cell_type": "markdown",
   "metadata": {},
   "source": [
    "Найдем решение уравнения $Ax=b$, если \n",
    "$$\n",
    "\\begin{equation}\n",
    "    A = \\begin{pmatrix}\n",
    "        10^{6} & 2 \\\\        \n",
    "        10^{13} & 2\n",
    "        \\end{pmatrix} \\quad\n",
    "    b = \\begin{pmatrix}\n",
    "            2 \\\\\n",
    "            1        \n",
    "        \\end{pmatrix}\n",
    "\\end{equation}\n",
    "$$"
   ]
  },
  {
   "cell_type": "code",
   "execution_count": 9,
   "metadata": {
    "collapsed": false
   },
   "outputs": [
    {
     "name": "stdout",
     "output_type": "stream",
     "text": [
      "x = \n",
      "\n",
      "[[ -1.00000010e-13]\n",
      " [  1.00000005e+00]]\n",
      "\n",
      "Невязка \n",
      "\n",
      "[[  8.88178420e-16]\n",
      " [  2.22044605e-16]]\n",
      "\n",
      "Определитель: -19999997999999.98\n",
      "Норма: 10000000000002.00\n",
      "Число обусловенности: 5000001000001.10\n"
     ]
    }
   ],
   "source": [
    "matrix = np.array([[10**6,2],\n",
    "                   [10**13, 2]])\n",
    "b = np.array([2, 1])\n",
    "det_A, norm_A, cond_A, x, E = solve_system(matrix, b)\n",
    "print_result(det_A, norm_A, cond_A, x, E)"
   ]
  },
  {
   "cell_type": "markdown",
   "metadata": {},
   "source": [
    "# Сплайн"
   ]
  },
  {
   "cell_type": "markdown",
   "metadata": {},
   "source": [
    "Заполним матрицу:"
   ]
  },
  {
   "cell_type": "code",
   "execution_count": 10,
   "metadata": {
    "collapsed": false
   },
   "outputs": [],
   "source": [
    "def fill_in_matrix(A, b, n, h):\n",
    "        \n",
    "    for i in range(1, n-2):\n",
    "        A[i][i-1] = h[i]\n",
    "        \n",
    "        A[i][i  ] = 2*(h[i]+h[i+1])\n",
    "        \n",
    "        A[i][i+1] = h[i+1]\n",
    "    \n",
    "        b[i] = 3 * ((points[i+2][\"y\"] - points[i+1][\"y\"]) / h[i+1] - (points[i+1][\"y\"] - points[i][\"y\"]) / h[i])\n",
    "    \n",
    "    A[0][0  ] = 2*(h[0] + h[1])\n",
    "    A[0][1  ] = h[1]\n",
    "    b[0] = 3 * ((points[2][\"y\"] - points[1][\"y\"]) / h[1] - (points[1][\"y\"] - points[0][\"y\"]) / h[0])\n",
    "    \n",
    "    A[n-2][n-3] = h[n-2]\n",
    "    A[n-2][n-2] = 2*(h[n-2] + h[n-1])\n",
    "    b[n-2] = 3 * ((points[n][\"y\"] - points[n-1][\"y\"]) / h[n-1] - (points[n-1][\"y\"] - points[n-2][\"y\"]) / h[n-2])\n",
    "\n",
    "    return(A, b)"
   ]
  },
  {
   "cell_type": "markdown",
   "metadata": {},
   "source": [
    "Получим сам сплайн:"
   ]
  },
  {
   "cell_type": "code",
   "execution_count": 11,
   "metadata": {
    "collapsed": true
   },
   "outputs": [],
   "source": [
    "from collections import defaultdict\n",
    "import bisect"
   ]
  },
  {
   "cell_type": "code",
   "execution_count": 12,
   "metadata": {
    "collapsed": false
   },
   "outputs": [],
   "source": [
    "class Tuple: a, b, c, d, x = [0., 0., 0., 0., 0.]\n",
    "\n",
    "def getSpline(points): \n",
    "    splines = defaultdict(lambda: Tuple())\n",
    "    points = sorted(points, key=lambda a: a[\"x\"])\n",
    "\n",
    "    n = len(points) - 1\n",
    "    \n",
    "    h = [points[1][\"x\"] - points[0][\"x\"] for i in range(n+1)]\n",
    "    \n",
    "\n",
    "    for i in range(n+1): splines[i].x, splines[i].a = points[i][\"x\"], points[i][\"y\"]\n",
    "    \n",
    "    \n",
    "    A = np.zeros((n-1, n-1))\n",
    "    b = np.zeros((n-1))\n",
    "\n",
    "    \n",
    "    A, b = fill_in_matrix(A, b, n, h)\n",
    "\n",
    "    x = kramer(A, b)\n",
    "\n",
    "    for i in reversed(range(1, n)): splines[i].c = x[i-1]\n",
    "    splines[0].c, splines[n].c = 0, 0\n",
    "    \n",
    "    for i in reversed(range(1,n+1)):\n",
    "        splines[i].d = (splines[i].c - splines[i-1].c) / (3*h[i])\n",
    "        splines[i].b = ((points[i][\"y\"] - points[i-1][\"y\"]) / h[i]) + h[i]*(2*splines[i].c + (splines[i-1].c))/3\n",
    "    return splines"
   ]
  },
  {
   "cell_type": "markdown",
   "metadata": {},
   "source": [
    "Приведем полиномы к форме, которые можно будет подать на вход функции `eval`:"
   ]
  },
  {
   "cell_type": "code",
   "execution_count": 13,
   "metadata": {
    "collapsed": true
   },
   "outputs": [],
   "source": [
    "def Polynom(p):\n",
    "    tmp = \"\"\n",
    "    if p.a != 0:\n",
    "        tmp += \"%.2f*x**3\" % p.a\n",
    "    if p.b != 0:\n",
    "        tmp += \" + %.2f*x**2\" % p.b\n",
    "    if p.c != 0:\n",
    "        tmp += \" + %.2f*x\" % p.c\n",
    "    if p.d != 0:\n",
    "        tmp += \" + %.2f\" % p.d\n",
    "    return tmp"
   ]
  },
  {
   "cell_type": "markdown",
   "metadata": {},
   "source": [
    "Вычисление значения функции:"
   ]
  },
  {
   "cell_type": "code",
   "execution_count": 14,
   "metadata": {
    "collapsed": true
   },
   "outputs": [],
   "source": [
    "def getf(function, x):\n",
    "    try:\n",
    "        return eval(function)\n",
    "    except ZeroDivisionError:\n",
    "        return 0"
   ]
  },
  {
   "cell_type": "markdown",
   "metadata": {},
   "source": [
    "Получение сетки:"
   ]
  },
  {
   "cell_type": "code",
   "execution_count": 15,
   "metadata": {
    "collapsed": true
   },
   "outputs": [],
   "source": [
    "def getGrid(a, b, N, function, points):\n",
    "    x = a\n",
    "    h = float(b - a) / N\n",
    "    for i in range(N + 1):\n",
    "        y = getf(function, x)\n",
    "        points.append({\"x\": x, \"y\": y})\n",
    "        x += h\n",
    "    return h"
   ]
  },
  {
   "cell_type": "code",
   "execution_count": 16,
   "metadata": {
    "collapsed": true
   },
   "outputs": [],
   "source": [
    "f_vect = np.vectorize(getf)"
   ]
  },
  {
   "cell_type": "code",
   "execution_count": 17,
   "metadata": {
    "collapsed": true
   },
   "outputs": [],
   "source": [
    "def getInterpolation(a, b, N, function, points):\n",
    "    step = getGrid(a, b, N, function, points)\n",
    "    spline = getSpline(points)\n",
    "    return spline"
   ]
  },
  {
   "cell_type": "code",
   "execution_count": 18,
   "metadata": {
    "collapsed": true
   },
   "outputs": [],
   "source": [
    "def calc(x, splines):\n",
    "    distribution = sorted([t[1].x for t in splines.items()])\n",
    "    indx = bisect.bisect_left(distribution, x)\n",
    "    if indx == len(distribution): return 0\n",
    "    dx = x - splines[indx].x\n",
    "    return splines[indx].a + splines[indx].b * dx + splines[indx].c * dx**2 + splines[indx].d * dx**3"
   ]
  },
  {
   "cell_type": "markdown",
   "metadata": {},
   "source": [
    "Сначала посмотрим на случай гладкой функции:"
   ]
  },
  {
   "cell_type": "code",
   "execution_count": 19,
   "metadata": {
    "collapsed": true
   },
   "outputs": [],
   "source": [
    "import math"
   ]
  },
  {
   "cell_type": "code",
   "execution_count": 20,
   "metadata": {
    "collapsed": true
   },
   "outputs": [],
   "source": [
    "function = 'math.sin(x)'\n",
    "a = 0\n",
    "b = 25\n",
    "N = 10\n",
    "step_out = 251\n",
    "points = []"
   ]
  },
  {
   "cell_type": "code",
   "execution_count": 21,
   "metadata": {
    "collapsed": false
   },
   "outputs": [],
   "source": [
    "y_spline_1 = getInterpolation(a, b, N, function, points)"
   ]
  },
  {
   "cell_type": "code",
   "execution_count": 22,
   "metadata": {
    "collapsed": true
   },
   "outputs": [],
   "source": [
    "N2 = 50\n",
    "points = []"
   ]
  },
  {
   "cell_type": "code",
   "execution_count": 23,
   "metadata": {
    "collapsed": false
   },
   "outputs": [],
   "source": [
    "y_spline_2 = getInterpolation(a, b, N2, function, points)"
   ]
  },
  {
   "cell_type": "code",
   "execution_count": 24,
   "metadata": {
    "collapsed": false
   },
   "outputs": [
    {
     "data": {
      "image/png": "[encoded data removed]",
      "text/plain": [
       "<matplotlib.figure.Figure at 0x7f82f3f410d0>"
      ]
     },
     "metadata": {},
     "output_type": "display_data"
    },
    {
     "data": {
      "image/png": "[encoded data removed]",
      "text/plain": [
       "<matplotlib.figure.Figure at 0x7f82f3f41190>"
      ]
     },
     "metadata": {},
     "output_type": "display_data"
    },
    {
     "data": {
      "image/png": "[encoded data removed]",
      "text/plain": [
       "<matplotlib.figure.Figure at 0x7f82f1475450>"
      ]
     },
     "metadata": {},
     "output_type": "display_data"
    }
   ],
   "source": [
    "xlist = np.linspace(a, b, N*10+1)\n",
    "y_spline_calc = [calc(x, y_spline_1) for x in xlist]\n",
    "plt.plot(xlist, f_vect(function, xlist), label=\"sin(x)\")\n",
    "plt.plot(xlist, y_spline_calc, linewidth=2, label=\"spline\")\n",
    "plt.xlabel('x')\n",
    "plt.ylabel('y')\n",
    "plt.legend(fontsize=15, loc=4)\n",
    "plt.xlim(a, b)\n",
    "plt.title('N = 10')\n",
    "plt.show()\n",
    "\n",
    "\n",
    "xlist = np.linspace(a, b, N2*10+1)\n",
    "y_spline_calc = [calc(x, y_spline_2) for x in xlist]\n",
    "plt.plot(xlist, f_vect(function, xlist), label=\"sin(x)\")\n",
    "plt.plot(xlist, y_spline_calc, linewidth=2, label=\"spline\")\n",
    "plt.xlabel('x')\n",
    "plt.ylabel('y')\n",
    "plt.legend(fontsize=15, loc=4)\n",
    "plt.xlim(a, b)\n",
    "plt.title('N = 50')\n",
    "plt.show()\n",
    "\n",
    "\n",
    "x = np.linspace(a, b, len(y_spline_calc))\n",
    "plt.plot(x, f_vect(function, x) - y_spline_calc)\n",
    "plt.xlabel('x')\n",
    "plt.ylabel('E(x)')\n",
    "plt.xlim(a, b)\n",
    "plt.show()"
   ]
  },
  {
   "cell_type": "markdown",
   "metadata": {},
   "source": [
    "Теперь посмотрим на случай разрывной функции:"
   ]
  },
  {
   "cell_type": "code",
   "execution_count": 25,
   "metadata": {
    "collapsed": true
   },
   "outputs": [],
   "source": [
    "function = '1/x**2'\n",
    "a = -1\n",
    "b = 1\n",
    "N = 10\n",
    "points = []"
   ]
  },
  {
   "cell_type": "code",
   "execution_count": 26,
   "metadata": {
    "collapsed": false
   },
   "outputs": [],
   "source": [
    "y_spline_1 = getInterpolation(a, b, N, function, points)"
   ]
  },
  {
   "cell_type": "code",
   "execution_count": null,
   "metadata": {
    "collapsed": true
   },
   "outputs": [],
   "source": [
    "N2 = 200\n",
    "points = []"
   ]
  },
  {
   "cell_type": "code",
   "execution_count": null,
   "metadata": {
    "collapsed": false
   },
   "outputs": [],
   "source": [
    "y_spline_2 = getInterpolation(a, b, N2, function, points)"
   ]
  },
  {
   "cell_type": "code",
   "execution_count": null,
   "metadata": {
    "collapsed": false
   },
   "outputs": [],
   "source": [
    "xlist = np.linspace(a, b, N*10+1)\n",
    "y_spline_calc = [calc(x, y_spline_1) for x in xlist]\n",
    "plt.plot(xlist, f_vect(function, xlist), label=\"1/x^2\")\n",
    "plt.plot(xlist, y_spline_calc, linewidth=2, label=\"spline\")\n",
    "plt.xlabel('x')\n",
    "plt.ylabel('y')\n",
    "plt.legend(fontsize=15, loc=4)\n",
    "plt.xlim(a, b)\n",
    "plt.title('N = 10')\n",
    "plt.show()\n",
    "\n",
    "\n",
    "xlist = np.linspace(a, b, N2*10+1)\n",
    "\n",
    "y_spline_calc = [calc(x, y_spline_2) for x in xlist]\n",
    "plt.plot(xlist, f_vect(function, xlist), label=\"1/x^2\")\n",
    "plt.plot(xlist, y_spline_calc, linewidth=2, label=\"spline\")\n",
    "plt.xlabel('x')\n",
    "plt.ylabel('y')\n",
    "plt.legend(fontsize=15, loc=4)\n",
    "plt.xlim(a, b)\n",
    "plt.title('N = 200')\n",
    "plt.show()\n",
    "\n",
    "\n",
    "x = np.linspace(a, b, len(y_spline_calc))\n",
    "plt.plot(x, f_vect(function, x) - y_spline_calc)\n",
    "plt.xlabel('x')\n",
    "plt.ylabel('E(x)')\n",
    "plt.xlim(a, b)\n",
    "plt.show()"
   ]
  },
  {
   "cell_type": "markdown",
   "metadata": {},
   "source": [
    "И на случай осциллирующей функции:"
   ]
  },
  {
   "cell_type": "code",
   "execution_count": null,
   "metadata": {
    "collapsed": true
   },
   "outputs": [],
   "source": [
    "function = 'x*math.cos(8*x)'\n",
    "a = 1\n",
    "b = 25\n",
    "N = 10\n",
    "points = []"
   ]
  },
  {
   "cell_type": "code",
   "execution_count": null,
   "metadata": {
    "collapsed": false
   },
   "outputs": [],
   "source": [
    "y_spline_1 = getInterpolation(a, b, N, function, points)"
   ]
  },
  {
   "cell_type": "code",
   "execution_count": null,
   "metadata": {
    "collapsed": true
   },
   "outputs": [],
   "source": [
    "N2 = 200\n",
    "points = []"
   ]
  },
  {
   "cell_type": "code",
   "execution_count": null,
   "metadata": {
    "collapsed": false
   },
   "outputs": [],
   "source": [
    "y_spline_2 = getInterpolation(a, b, N2, function, points)"
   ]
  },
  {
   "cell_type": "code",
   "execution_count": null,
   "metadata": {
    "collapsed": false
   },
   "outputs": [],
   "source": [
    "xlist = np.linspace(a, b, N*10+1)\n",
    "y_spline_calc = [calc(x, y_spline_1) for x in xlist]\n",
    "plt.plot(xlist, f_vect(function, xlist), label=\"xcos(8x)\")\n",
    "plt.plot(xlist, y_spline_calc, linewidth=2, label=\"spline\")\n",
    "plt.xlabel('x')\n",
    "plt.ylabel('y')\n",
    "plt.legend(fontsize=15, loc=4)\n",
    "plt.xlim(a, b)\n",
    "plt.title('N = 10')\n",
    "plt.show()\n",
    "\n",
    "\n",
    "xlist = np.linspace(a, b, N2*10+1)\n",
    "y_spline_calc = [calc(x, y_spline_2) for x in xlist]\n",
    "plt.plot(xlist, f_vect(function, xlist), label=\"xcos(8x)\")\n",
    "plt.plot(xlist, y_spline_calc, linewidth=2, label=\"spline\")\n",
    "plt.xlabel('x')\n",
    "plt.ylabel('y')\n",
    "plt.legend(fontsize=15, loc=4)\n",
    "plt.xlim(a, b)\n",
    "plt.title('N = 200')\n",
    "plt.show()\n",
    "\n",
    "\n",
    "x = np.linspace(a, b, len(y_spline_calc))\n",
    "plt.plot(x, f_vect(function, x) - y_spline_calc)\n",
    "plt.xlabel('x')\n",
    "plt.ylabel('E(x)')\n",
    "plt.xlim(a, b)\n",
    "plt.show()"
   ]
  }
 ],
 "metadata": {
  "kernelspec": {
   "display_name": "Python [Root]",
   "language": "python",
   "name": "Python [Root]"
  },
  "language_info": {
   "codemirror_mode": {
    "name": "ipython",
    "version": 2
   },
   "file_extension": ".py",
   "mimetype": "text/x-python",
   "name": "python",
   "nbconvert_exporter": "python",
   "pygments_lexer": "ipython2",
   "version": "2.7.12"
  }
 },
 "nbformat": 4,
 "nbformat_minor": 0
}
