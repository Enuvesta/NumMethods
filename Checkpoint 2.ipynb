{
 "cells": [
  {
   "cell_type": "markdown",
   "metadata": {},
   "source": [
    "# Решение СЛАУ"
   ]
  },
  {
   "cell_type": "markdown",
   "metadata": {},
   "source": [
    "Будем решать систему линейных уравнений методом Крамера.  Если определитель системы отличен от нуля, то система линейных уравнений имеет одно единственное решение, причём неизвестное равно отношению определителей. В знаменателе – определитель системы, а в числителе – определитель, полученный из определителя системы путём замены коэффициентов при этом неизвестном свободными членами."
   ]
  },
  {
   "cell_type": "markdown",
   "metadata": {},
   "source": [
    "### Условия применимости:\n",
    "\n",
    "Метод Крамера может быть использован в решении системы стольких линейных уравнений, сколько в каждом уравнении неизвестных. Если определитель системы не равен нулю, то метод Крамера может быть использован в решении, если же равен нулю, то не может. Кроме того, метод Крамера может быть использован в решении систем линейных уравнений, имеющих единственное решение."
   ]
  },
  {
   "cell_type": "code",
   "execution_count": 1,
   "metadata": {
    "collapsed": true
   },
   "outputs": [],
   "source": [
    "from __future__ import division"
   ]
  },
  {
   "cell_type": "code",
   "execution_count": 2,
   "metadata": {
    "collapsed": true
   },
   "outputs": [],
   "source": [
    "import numpy as np"
   ]
  },
  {
   "cell_type": "code",
   "execution_count": 3,
   "metadata": {
    "collapsed": false
   },
   "outputs": [],
   "source": [
    "def det(matrix, mul):\n",
    "    mat = matrix[:]\n",
    "    width = len(mat)\n",
    "    if width == 1:\n",
    "        return mul * mat[0][0]\n",
    "    else:\n",
    "        sign = -1\n",
    "        result = 0\n",
    "        for i in range(width):\n",
    "            m = []\n",
    "            for j in range(1, width):\n",
    "                buff = []\n",
    "                for k in range(width):\n",
    "                    if k != i:\n",
    "                        buff.append(mat[j][k])\n",
    "                m.append(buff)\n",
    "            sign *= -1\n",
    "            result += mul * det(m, sign * mat[0][i])\n",
    "    return result\n",
    " \n",
    "def kramer(m, b):\n",
    "    tmp = list(zip(*m))\n",
    "    delta = det(tmp, 1)\n",
    "    if delta == 0:\n",
    "        return \"Решений нет\"\n",
    "    result = []\n",
    "    for i in range(len(m)):\n",
    "        A = tmp[:]\n",
    "        A[i] = b\n",
    "        result.append((det(A, 1) / delta)[0])\n",
    "    return np.array(result)"
   ]
  },
  {
   "cell_type": "markdown",
   "metadata": {},
   "source": [
    "Найдем решение уравнения $Ax=b$, если \n",
    "$$\n",
    "\\begin{equation}\n",
    "    A = \\begin{pmatrix}\n",
    "        1 & 2 & 3 \\\\\n",
    "        2.001 & 3.999 & 6 \\\\         \n",
    "        15 & 3 & 6\n",
    "        \\end{pmatrix} \\quad\n",
    "    b = \\begin{pmatrix}\n",
    "            1 \\\\\n",
    "            2\\\\         \n",
    "            3\n",
    "        \\end{pmatrix}\n",
    "\\end{equation}\n",
    "$$\n"
   ]
  },
  {
   "cell_type": "code",
   "execution_count": 4,
   "metadata": {
    "collapsed": false
   },
   "outputs": [
    {
     "name": "stdout",
     "output_type": "stream",
     "text": [
      "x = \n",
      "\n",
      "[[ 0.08333333]\n",
      " [ 0.08333333]\n",
      " [ 0.25      ]]\n",
      "\n",
      "Невязка \n",
      "\n",
      "[[  3.94795308e-13]\n",
      " [  7.89590615e-13]\n",
      " [  1.18394183e-12]]\n"
     ]
    }
   ],
   "source": [
    "matrix = np.array([[1,2,3],\n",
    "                  [2.001, 3.999, 6],\n",
    "                  [15, 3, 6]])\n",
    "b = np.array([1, 2, 3]).reshape(-1,1)\n",
    "A = matrix\n",
    "\n",
    "x = kramer(matrix, b).reshape(-1, 1)\n",
    "print(\"x = \\n\")\n",
    "print(x)\n",
    "print(\"\\nНевязка \\n\")\n",
    "print(abs(b - np.dot(A, x)))"
   ]
  },
  {
   "cell_type": "markdown",
   "metadata": {},
   "source": [
    "Найдем решение уравнения $Ax=b$, если \n",
    "$$\n",
    "\\begin{equation}\n",
    "    A = \\begin{pmatrix}\n",
    "        1 & \\frac{1}{2} & \\frac{1}{3} \\\\\n",
    "        \\frac{1}{2} & \\frac{1}{3} & \\frac{1}{4} \\\\         \n",
    "        \\frac{1}{3} & \\frac{1}{4} & \\frac{1}{5}\n",
    "        \\end{pmatrix} \\quad\n",
    "    b = \\begin{pmatrix}\n",
    "            1 \\\\\n",
    "            2\\\\         \n",
    "            3\n",
    "        \\end{pmatrix}\n",
    "\\end{equation}\n",
    "$$\n"
   ]
  },
  {
   "cell_type": "code",
   "execution_count": 5,
   "metadata": {
    "collapsed": false
   },
   "outputs": [
    {
     "name": "stdout",
     "output_type": "stream",
     "text": [
      "x = \n",
      "\n",
      "[[  27.]\n",
      " [-192.]\n",
      " [ 210.]]\n",
      "\n",
      "Невязка \n",
      "\n",
      "[[  2.84217094e-14]\n",
      " [  4.26325641e-14]\n",
      " [  5.68434189e-14]]\n"
     ]
    }
   ],
   "source": [
    "matrix = np.array([[1,1/2,1/3],\n",
    "                   [1/2, 1/3, 1/4],\n",
    "                   [1/3, 1/4, 1/5]])\n",
    "b = np.array([1, 2, 3]).reshape(-1,1)\n",
    "A = matrix\n",
    "x = kramer(matrix, b).reshape(-1,1)\n",
    "print(\"x = \\n\")\n",
    "print(x)\n",
    "print(\"\\nНевязка \\n\")\n",
    "print(abs(b - np.dot(A, x)))"
   ]
  },
  {
   "cell_type": "markdown",
   "metadata": {},
   "source": [
    "Найдем решение уравнения $Ax=b$, если \n",
    "$$\n",
    "\\begin{equation}\n",
    "    A = \\begin{pmatrix}\n",
    "        10^{6} & 2 \\\\        \n",
    "        10^{13} & 2\n",
    "        \\end{pmatrix} \\quad\n",
    "    b = \\begin{pmatrix}\n",
    "            2 \\\\\n",
    "            1        \n",
    "        \\end{pmatrix}\n",
    "\\end{equation}\n",
    "$$"
   ]
  },
  {
   "cell_type": "code",
   "execution_count": 8,
   "metadata": {
    "collapsed": false
   },
   "outputs": [
    {
     "name": "stdout",
     "output_type": "stream",
     "text": [
      "x = \n",
      "\n",
      "[[ -1.00000010e-13]\n",
      " [  1.00000005e+00]]\n",
      "\n",
      "Невязка \n",
      "\n",
      "[[ 0.]\n",
      " [ 0.]]\n"
     ]
    }
   ],
   "source": [
    "matrix = np.array([[10**6,2],\n",
    "                   [10**13, 2]])\n",
    "b = np.array([2, 1]).reshape(-1,1)\n",
    "A = matrix\n",
    "x = kramer(matrix, b).reshape(-1, 1)\n",
    "print(\"x = \\n\")\n",
    "print(x)\n",
    "print(\"\\nНевязка \\n\")\n",
    "print(abs(b - np.dot(A, x)))"
   ]
  }
 ],
 "metadata": {
  "kernelspec": {
   "display_name": "Python [Root]",
   "language": "python",
   "name": "Python [Root]"
  },
  "language_info": {
   "codemirror_mode": {
    "name": "ipython",
    "version": 2
   },
   "file_extension": ".py",
   "mimetype": "text/x-python",
   "name": "python",
   "nbconvert_exporter": "python",
   "pygments_lexer": "ipython2",
   "version": "2.7.12"
  }
 },
 "nbformat": 4,
 "nbformat_minor": 0
}
